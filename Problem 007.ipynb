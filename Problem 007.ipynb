{
 "metadata": {
  "name": "",
  "signature": "sha256:01c545da700aef896d10b4ea68f3898becaa680ec86dc453cf3954e0b7a7ca08"
 },
 "nbformat": 3,
 "nbformat_minor": 0,
 "worksheets": [
  {
   "cells": [
    {
     "cell_type": "code",
     "collapsed": false,
     "input": [
      "import time\n",
      "\n",
      "start = time.time()\n",
      "\n",
      "num_primes = 10001\n",
      "test_prime = 1\n",
      "primes = []\n",
      "\n",
      "def is_prime():\n",
      "    for p in primes:\n",
      "        if test_prime%p ==0:\n",
      "            return False\n",
      "    return True\n",
      "\n",
      "while num_primes:\n",
      "    test_prime += 1\n",
      "    if is_prime():\n",
      "        num_primes -=1\n",
      "        primes.append(test_prime)\n",
      "        \n",
      "print \"Answer:{}\".format( test_prime )\n",
      "print \"Elapsed time:{0} seconds\".format(time.time()-start)"
     ],
     "language": "python",
     "metadata": {},
     "outputs": [
      {
       "output_type": "stream",
       "stream": "stdout",
       "text": [
        "Answer:104743\n",
        "Elapsed time:4.12991094589 seconds\n"
       ]
      }
     ],
     "prompt_number": 1
    },
    {
     "cell_type": "code",
     "collapsed": false,
     "input": [],
     "language": "python",
     "metadata": {},
     "outputs": []
    }
   ],
   "metadata": {}
  }
 ]
}