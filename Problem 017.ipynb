{
 "metadata": {
  "name": "",
  "signature": "sha256:550a9108bdacab2e1bd7189e631ec054f69e4f5eed60bd5f54bef264d5546682"
 },
 "nbformat": 3,
 "nbformat_minor": 0,
 "worksheets": [
  {
   "cells": [
    {
     "cell_type": "code",
     "collapsed": false,
     "input": [
      "import numpy as np\n",
      "\n",
      "ones = ['','one','two','three','four','five','six','seven','eight','nine','ten']\n",
      "teens = ['ten','eleven','twelve','thirteen','fourteen','fifteen','sixteen','seventeen','eighteen','nineteen']\n",
      "tens = ['','','twenty', 'thirty','forty','fifty','sixty','seventy','eighty','ninety']\n",
      "\n",
      "def to_english(N):\n",
      "    word = ''\n",
      "    if len(str(N)) == 3:\n",
      "        word += ones[int(str(N)[0])] + 'hundred'\n",
      "        if N%100 != 0:\n",
      "            word += 'and'\n",
      "    tens_place = N%100\n",
      "    if tens_place > 19:\n",
      "        word += tens[int(str(tens_place)[0])] + ones[int(str(tens_place)[1])]\n",
      "    elif 10 <= N%100 <= 19:\n",
      "        word += teens[int(str(tens_place)[1])]\n",
      "    else:\n",
      "        word += ones[int(str(tens_place)[0])]\n",
      "    if N == 1000:\n",
      "        word = 'onethousand'\n",
      "    return word\n",
      "\n",
      "sum([len(to_english(i)) for i in range(1,1001)])"
     ],
     "language": "python",
     "metadata": {},
     "outputs": [
      {
       "metadata": {},
       "output_type": "pyout",
       "prompt_number": 1,
       "text": [
        "21124"
       ]
      }
     ],
     "prompt_number": 1
    },
    {
     "cell_type": "code",
     "collapsed": false,
     "input": [],
     "language": "python",
     "metadata": {},
     "outputs": [],
     "prompt_number": 1
    },
    {
     "cell_type": "code",
     "collapsed": false,
     "input": [],
     "language": "python",
     "metadata": {},
     "outputs": []
    }
   ],
   "metadata": {}
  }
 ]
}