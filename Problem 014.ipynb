{
 "metadata": {
  "name": "",
  "signature": "sha256:fed9b5f787921e9876a47c2d29ed9f0bfb3b28a4dd7b684fcff7697c2f8af969"
 },
 "nbformat": 3,
 "nbformat_minor": 0,
 "worksheets": [
  {
   "cells": [
    {
     "cell_type": "code",
     "collapsed": false,
     "input": [
      "from __future__ import division\n",
      "\n",
      "cache = {}\n",
      "def collatz(N):\n",
      "    try:\n",
      "        steps = cache[N]\n",
      "    except:\n",
      "        if N==1:\n",
      "            steps = 1\n",
      "        elif N%2 == 0:\n",
      "            steps = 1+collatz(N/2)\n",
      "        else:\n",
      "            steps = 1+collatz(3*N + 1)\n",
      "        cache[N] = steps\n",
      "    return steps\n",
      "\n",
      " \n",
      "max_starting = 0\n",
      "for N in range(1,1000000):\n",
      "    col = collatz(N)\n",
      "    if col > max_starting:\n",
      "        max_starting = col\n",
      "        start_number = N"
     ],
     "language": "python",
     "metadata": {},
     "outputs": [],
     "prompt_number": 1
    },
    {
     "cell_type": "code",
     "collapsed": false,
     "input": [
      "start_number"
     ],
     "language": "python",
     "metadata": {},
     "outputs": [
      {
       "metadata": {},
       "output_type": "pyout",
       "prompt_number": 2,
       "text": [
        "837799"
       ]
      }
     ],
     "prompt_number": 2
    },
    {
     "cell_type": "code",
     "collapsed": false,
     "input": [
      "\n"
     ],
     "language": "python",
     "metadata": {},
     "outputs": [],
     "prompt_number": 2
    }
   ],
   "metadata": {}
  }
 ]
}