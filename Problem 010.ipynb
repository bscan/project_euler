{
 "metadata": {
  "name": "",
  "signature": "sha256:c7161f8f8e31ac1259d626da6728ea078f6d3333c0c77c8706b925651e5572b2"
 },
 "nbformat": 3,
 "nbformat_minor": 0,
 "worksheets": [
  {
   "cells": [
    {
     "cell_type": "code",
     "collapsed": false,
     "input": [
      "from __future__ import division\n",
      "import numpy as np\n",
      "import time\n",
      "\n",
      "start = time.time()\n",
      "\n",
      "N = 2000000\n",
      "sieve = np.array([True]*N)\n",
      "primes = [2]\n",
      "for test_prime in xrange(3,N,2):\n",
      "    if sieve[test_prime]:\n",
      "        multiples = test_prime*np.arange(int(np.ceil(N/test_prime)))\n",
      "        sieve[multiples] = False\n",
      "        primes.append(test_prime)\n",
      "\n",
      "print \"Answer:{}\".format( sum(primes) )\n",
      "print \"Elapsed time:{0} seconds\".format(time.time()-start)"
     ],
     "language": "python",
     "metadata": {},
     "outputs": [
      {
       "output_type": "stream",
       "stream": "stdout",
       "text": [
        "Answer:142913828922\n",
        "Elapsed time:1.20955300331 seconds\n"
       ]
      }
     ],
     "prompt_number": 1
    },
    {
     "cell_type": "code",
     "collapsed": false,
     "input": [],
     "language": "python",
     "metadata": {},
     "outputs": []
    }
   ],
   "metadata": {}
  }
 ]
}