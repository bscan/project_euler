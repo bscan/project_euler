{
 "metadata": {
  "name": "",
  "signature": "sha256:6385806ecb40660cc580cfb86b10cf39954a1c52a6b233a8fed8a9441384ce2e"
 },
 "nbformat": 3,
 "nbformat_minor": 0,
 "worksheets": [
  {
   "cells": [
    {
     "cell_type": "code",
     "collapsed": false,
     "input": [
      "# Solution 1\n",
      "from scipy.misc import comb\n",
      "print comb(40,20, exact=True)"
     ],
     "language": "python",
     "metadata": {},
     "outputs": [
      {
       "output_type": "stream",
       "stream": "stdout",
       "text": [
        "137846528820\n"
       ]
      }
     ],
     "prompt_number": 1
    },
    {
     "cell_type": "code",
     "collapsed": false,
     "input": [
      "# A native implementation of N choose K from StackOverflow\n",
      "from operator import mul    # or mul=lambda x,y:x*y\n",
      "from fractions import Fraction\n",
      "\n",
      "def nCk(n,k): \n",
      "  return int( reduce(mul, (Fraction(n-i, i+1) for i in range(k)), 1) )\n",
      "\n",
      "nCk(40,20)"
     ],
     "language": "python",
     "metadata": {},
     "outputs": [
      {
       "metadata": {},
       "output_type": "pyout",
       "prompt_number": 2,
       "text": [
        "137846528820"
       ]
      }
     ],
     "prompt_number": 2
    },
    {
     "cell_type": "code",
     "collapsed": false,
     "input": [],
     "language": "python",
     "metadata": {},
     "outputs": []
    }
   ],
   "metadata": {}
  }
 ]
}