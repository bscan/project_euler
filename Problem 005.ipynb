{
 "metadata": {
  "name": "",
  "signature": "sha256:bdadf2dba67c0574b9c53cedbb08edee95b7496c34e32ed72d09a1cd5bc54a3a"
 },
 "nbformat": 3,
 "nbformat_minor": 0,
 "worksheets": [
  {
   "cells": [
    {
     "cell_type": "code",
     "collapsed": false,
     "input": [
      "from numpy import log, floor\n",
      "import time\n",
      "\n",
      "start = time.time()\n",
      "primes_less_than_20 = [2,3,5,7,11,13,17,19]\n",
      "val = 1\n",
      "for p in primes_less_than_20:\n",
      "    val *= p**floor(log(20)/log(p))\n",
      "\n",
      "print \"Answer:{}\".format( val )\n",
      "print \"Elapsed time:{0} seconds\".format(time.time()-start)"
     ],
     "language": "python",
     "metadata": {},
     "outputs": [
      {
       "output_type": "stream",
       "stream": "stdout",
       "text": [
        "Answer:232792560.0\n",
        "Elapsed time:0.000432968139648 seconds\n"
       ]
      }
     ],
     "prompt_number": 1
    },
    {
     "cell_type": "code",
     "collapsed": false,
     "input": [],
     "language": "python",
     "metadata": {},
     "outputs": []
    }
   ],
   "metadata": {}
  }
 ]
}