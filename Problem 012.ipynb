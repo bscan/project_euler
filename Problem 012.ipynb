{
 "metadata": {
  "name": "",
  "signature": "sha256:c31de5b9a758adaa2185b9da3fa6071fbcf02285506bd82ecbb0551025e4661b"
 },
 "nbformat": 3,
 "nbformat_minor": 0,
 "worksheets": [
  {
   "cells": [
    {
     "cell_type": "code",
     "collapsed": false,
     "input": [
      "import numpy as np\n",
      "import time\n",
      "\n",
      "start = time.time()\n",
      "primes = [2,3,5,7,11,13,17,19,23] # We only need the first 9 primes\n",
      "max_N = np.prod(primes) #max_N*(max_N+1)/2 is a triangle number with > 500 divisors\n",
      "\n",
      "def get_primes(N):\n",
      "    # Inefficient, but sufficient\n",
      "    prime_list = []\n",
      "    p_count = 0\n",
      "    while N>1 and p_count<len(primes):\n",
      "        p = primes[p_count]\n",
      "        if N%p == 0:\n",
      "            prime_list.append(p)\n",
      "            N = N/p\n",
      "        else:\n",
      "            p_count+=1\n",
      "   \n",
      "    return prime_list\n",
      "\n",
      "def count(x):\n",
      "    return np.unique(x, return_counts=True)[1]\n",
      "\n",
      "for N in xrange(1,max_N):\n",
      "    prime_divs = get_primes(N) + get_primes(N+1)\n",
      "    prime_divs.remove(2)\n",
      "    total_divisors = np.prod(1+count(prime_divs))\n",
      "    if total_divisors > 500:\n",
      "        print \"Answer:\" + str(N*(N+1)/2)\n",
      "        break\n",
      "\n",
      "print \"Elapsed time:{0} seconds\".format(time.time()-start)  "
     ],
     "language": "python",
     "metadata": {},
     "outputs": [
      {
       "output_type": "stream",
       "stream": "stdout",
       "text": [
        "Answer:76576500\n",
        "Elapsed time:0.5369181633 seconds\n"
       ]
      }
     ],
     "prompt_number": 1
    },
    {
     "cell_type": "code",
     "collapsed": false,
     "input": [],
     "language": "python",
     "metadata": {},
     "outputs": [],
     "prompt_number": 1
    },
    {
     "cell_type": "code",
     "collapsed": false,
     "input": [],
     "language": "python",
     "metadata": {},
     "outputs": [],
     "prompt_number": 1
    },
    {
     "cell_type": "code",
     "collapsed": false,
     "input": [],
     "language": "python",
     "metadata": {},
     "outputs": []
    }
   ],
   "metadata": {}
  }
 ]
}