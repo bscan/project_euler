{
 "metadata": {
  "name": "",
  "signature": "sha256:6acc6775a2b25d934a5f411f70fc5b3ee5849c0605196a81626547ea0b74b6b1"
 },
 "nbformat": 3,
 "nbformat_minor": 0,
 "worksheets": [
  {
   "cells": [
    {
     "cell_type": "code",
     "collapsed": false,
     "input": [
      "import numpy as np\n",
      "import time\n",
      "start = time.time()\n",
      "prods = []\n",
      "for a in range(1,100):\n",
      "    for b in range(a,10000):\n",
      "        if sorted(list(str(a*b)) + list(str(a)) + list(str(b))) == list('123456789'):\n",
      "            prods.append(a*b)\n",
      "\n",
      "print \"Answer:\" + str(sum(np.unique(prods)))\n",
      "print \"Elapsed time:{0} seconds\".format(time.time()-start)"
     ],
     "language": "python",
     "metadata": {},
     "outputs": [
      {
       "output_type": "stream",
       "stream": "stdout",
       "text": [
        "Answer:45228\n",
        "Elapsed time:5.28498291969 seconds\n"
       ]
      }
     ],
     "prompt_number": 1
    },
    {
     "cell_type": "code",
     "collapsed": false,
     "input": [],
     "language": "python",
     "metadata": {},
     "outputs": [],
     "prompt_number": 1
    },
    {
     "cell_type": "code",
     "collapsed": false,
     "input": [],
     "language": "python",
     "metadata": {},
     "outputs": []
    }
   ],
   "metadata": {}
  }
 ]
}