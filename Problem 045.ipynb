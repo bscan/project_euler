{
 "metadata": {
  "name": "",
  "signature": "sha256:120728a34be82313830610ca658c7a980e673defa80f5265326c0cded18ea3d0"
 },
 "nbformat": 3,
 "nbformat_minor": 0,
 "worksheets": [
  {
   "cells": [
    {
     "cell_type": "code",
     "collapsed": false,
     "input": [
      "from math import sqrt\n",
      "import time\n",
      "start = time.time()\n",
      "\n",
      "inv_h = lambda h: (1 + sqrt(1+8*h))/4\n",
      "inv_p = lambda p: (1 + sqrt(1+24*p))/6\n",
      "inv_t = lambda t: (-1 + sqrt(1+8*t))/2\n",
      "\n",
      "N = 144\n",
      "while True:\n",
      "    N += 1\n",
      "    hex = N*(2*N-1)\n",
      "    if inv_t(hex).is_integer() and inv_p(hex).is_integer():\n",
      "        print \"Answer:\" + str(hex)\n",
      "        break\n",
      "\n",
      "print \"Elapsed time:{0} seconds\".format(time.time()-start)\n"
     ],
     "language": "python",
     "metadata": {},
     "outputs": [
      {
       "output_type": "stream",
       "stream": "stdout",
       "text": [
        "Answer:1533776805\n",
        "Elapsed time:0.0387921333313 seconds\n"
       ]
      }
     ],
     "prompt_number": 1
    },
    {
     "cell_type": "code",
     "collapsed": false,
     "input": [],
     "language": "python",
     "metadata": {},
     "outputs": [],
     "prompt_number": 9
    },
    {
     "cell_type": "code",
     "collapsed": false,
     "input": [],
     "language": "python",
     "metadata": {},
     "outputs": [],
     "prompt_number": 9
    },
    {
     "cell_type": "code",
     "collapsed": false,
     "input": [],
     "language": "python",
     "metadata": {},
     "outputs": []
    }
   ],
   "metadata": {}
  }
 ]
}