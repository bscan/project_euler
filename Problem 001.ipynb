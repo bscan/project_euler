{
 "metadata": {
  "name": "",
  "signature": "sha256:1047f3a13460e8364e45774d24b297de4c5d0439b9318139765b261c8970c879"
 },
 "nbformat": 3,
 "nbformat_minor": 0,
 "worksheets": [
  {
   "cells": [
    {
     "cell_type": "code",
     "collapsed": false,
     "input": [
      "import numpy as np\n",
      "import time\n",
      "\n",
      "start = time.time()\n",
      "N = 1000000\n",
      "numbers = np.arange(1,N)\n",
      "print \"Answer:{}\".format( np.sum(numbers[(numbers%3 == 0) | (numbers%5 == 0)]) )\n",
      "print \"Elapsed time:{0} seconds\".format(time.time()-start)"
     ],
     "language": "python",
     "metadata": {},
     "outputs": [
      {
       "output_type": "stream",
       "stream": "stdout",
       "text": [
        "Answer:233333166668\n",
        "Elapsed time:0.0468649864197 seconds\n"
       ]
      }
     ],
     "prompt_number": 1
    },
    {
     "cell_type": "code",
     "collapsed": false,
     "input": [],
     "language": "python",
     "metadata": {},
     "outputs": [],
     "prompt_number": 1
    },
    {
     "cell_type": "code",
     "collapsed": false,
     "input": [],
     "language": "python",
     "metadata": {},
     "outputs": []
    }
   ],
   "metadata": {}
  }
 ]
}