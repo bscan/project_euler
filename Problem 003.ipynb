{
 "metadata": {
  "name": "",
  "signature": "sha256:30d59664d17c5e42e1316617608b7b3f36a9641d988784b41cba43d01656f1c2"
 },
 "nbformat": 3,
 "nbformat_minor": 0,
 "worksheets": [
  {
   "cells": [
    {
     "cell_type": "code",
     "collapsed": false,
     "input": [
      "import time\n",
      "\n",
      "start = time.time()\n",
      "\n",
      "val = 600851475143\n",
      "test_factor = 2\n",
      "while val > 1:\n",
      "    if val%test_factor ==0:\n",
      "        val /= test_factor\n",
      "    else:\n",
      "        test_factor +=1\n",
      "\n",
      "print \"Answer:{}\".format( test_factor )\n",
      "print \"Elapsed time:{0} seconds\".format(time.time()-start)"
     ],
     "language": "python",
     "metadata": {},
     "outputs": [
      {
       "output_type": "stream",
       "stream": "stdout",
       "text": [
        "Answer:6857\n",
        "Elapsed time:0.00266003608704 seconds\n"
       ]
      }
     ],
     "prompt_number": 1
    },
    {
     "cell_type": "code",
     "collapsed": false,
     "input": [],
     "language": "python",
     "metadata": {},
     "outputs": [],
     "prompt_number": 1
    },
    {
     "cell_type": "code",
     "collapsed": false,
     "input": [],
     "language": "python",
     "metadata": {},
     "outputs": [],
     "prompt_number": 1
    },
    {
     "cell_type": "code",
     "collapsed": false,
     "input": [],
     "language": "python",
     "metadata": {},
     "outputs": []
    }
   ],
   "metadata": {}
  }
 ]
}